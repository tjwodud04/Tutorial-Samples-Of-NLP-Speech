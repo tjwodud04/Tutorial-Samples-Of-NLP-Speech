{
  "nbformat": 4,
  "nbformat_minor": 0,
  "metadata": {
    "colab": {
      "name": "KoBART-chitchat.ipynb",
      "provenance": [],
      "collapsed_sections": []
    },
    "kernelspec": {
      "name": "python3",
      "display_name": "Python 3"
    },
    "accelerator": "GPU"
  },
  "cells": [
    {
      "cell_type": "code",
      "metadata": {
        "id": "qy6rzE3uZfJQ",
        "colab": {
          "base_uri": "https://localhost:8080/"
        },
        "outputId": "f6417233-35de-4310-ff00-4982eec8fe56"
      },
      "source": [
        "!nvidia-smi"
      ],
      "execution_count": null,
      "outputs": [
        {
          "output_type": "stream",
          "name": "stdout",
          "text": [
            "Sat Oct  2 09:06:39 2021       \n",
            "+-----------------------------------------------------------------------------+\n",
            "| NVIDIA-SMI 470.74       Driver Version: 460.32.03    CUDA Version: 11.2     |\n",
            "|-------------------------------+----------------------+----------------------+\n",
            "| GPU  Name        Persistence-M| Bus-Id        Disp.A | Volatile Uncorr. ECC |\n",
            "| Fan  Temp  Perf  Pwr:Usage/Cap|         Memory-Usage | GPU-Util  Compute M. |\n",
            "|                               |                      |               MIG M. |\n",
            "|===============================+======================+======================|\n",
            "|   0  Tesla P100-PCIE...  Off  | 00000000:00:04.0 Off |                    0 |\n",
            "| N/A   34C    P0    26W / 250W |      0MiB / 16280MiB |      0%      Default |\n",
            "|                               |                      |                  N/A |\n",
            "+-------------------------------+----------------------+----------------------+\n",
            "                                                                               \n",
            "+-----------------------------------------------------------------------------+\n",
            "| Processes:                                                                  |\n",
            "|  GPU   GI   CI        PID   Type   Process name                  GPU Memory |\n",
            "|        ID   ID                                                   Usage      |\n",
            "|=============================================================================|\n",
            "|  No running processes found                                                 |\n",
            "+-----------------------------------------------------------------------------+\n"
          ]
        }
      ]
    },
    {
      "cell_type": "code",
      "metadata": {
        "id": "OsXJJajPeJ7M",
        "colab": {
          "base_uri": "https://localhost:8080/"
        },
        "outputId": "7ca20e22-6b3e-4e1c-f904-3ec62078106a"
      },
      "source": [
        "# 현재 CUDA Version에 맞는 Pytorch 설치\n",
        "!pip install torch==1.8.0+cu111 torchvision==0.9.0+cu111 torchaudio===0.8.0 -f https://download.pytorch.org/whl/torch_stable.html pytorch_lightning==1.2.3"
      ],
      "execution_count": null,
      "outputs": [
        {
          "output_type": "stream",
          "name": "stdout",
          "text": [
            "Looking in links: https://download.pytorch.org/whl/torch_stable.html\n",
            "Collecting torch==1.8.0+cu111\n",
            "  Downloading https://download.pytorch.org/whl/cu111/torch-1.8.0%2Bcu111-cp37-cp37m-linux_x86_64.whl (1982.2 MB)\n",
            "\u001b[K     |█████████████▌                  | 834.1 MB 1.3 MB/s eta 0:14:49tcmalloc: large alloc 1147494400 bytes == 0x5636715da000 @  0x7fdbc2609615 0x56366fac74cc 0x56366fba747a 0x56366faca2ed 0x56366fbbbe1d 0x56366fb3de99 0x56366fb389ee 0x56366facbbda 0x56366fb3dd00 0x56366fb389ee 0x56366facbbda 0x56366fb3a737 0x56366fbbcc66 0x56366fb39daf 0x56366fbbcc66 0x56366fb39daf 0x56366fbbcc66 0x56366fb39daf 0x56366facc039 0x56366fb0f409 0x56366facac52 0x56366fb3dc25 0x56366fb389ee 0x56366facbbda 0x56366fb3a737 0x56366fb389ee 0x56366facbbda 0x56366fb39915 0x56366facbafa 0x56366fb39c0d 0x56366fb389ee\n",
            "\u001b[K     |█████████████████               | 1055.7 MB 1.3 MB/s eta 0:12:17tcmalloc: large alloc 1434370048 bytes == 0x5636b5c30000 @  0x7fdbc2609615 0x56366fac74cc 0x56366fba747a 0x56366faca2ed 0x56366fbbbe1d 0x56366fb3de99 0x56366fb389ee 0x56366facbbda 0x56366fb3dd00 0x56366fb389ee 0x56366facbbda 0x56366fb3a737 0x56366fbbcc66 0x56366fb39daf 0x56366fbbcc66 0x56366fb39daf 0x56366fbbcc66 0x56366fb39daf 0x56366facc039 0x56366fb0f409 0x56366facac52 0x56366fb3dc25 0x56366fb389ee 0x56366facbbda 0x56366fb3a737 0x56366fb389ee 0x56366facbbda 0x56366fb39915 0x56366facbafa 0x56366fb39c0d 0x56366fb389ee\n",
            "\u001b[K     |█████████████████████▋          | 1336.2 MB 1.3 MB/s eta 0:08:13tcmalloc: large alloc 1792966656 bytes == 0x56370b41c000 @  0x7fdbc2609615 0x56366fac74cc 0x56366fba747a 0x56366faca2ed 0x56366fbbbe1d 0x56366fb3de99 0x56366fb389ee 0x56366facbbda 0x56366fb3dd00 0x56366fb389ee 0x56366facbbda 0x56366fb3a737 0x56366fbbcc66 0x56366fb39daf 0x56366fbbcc66 0x56366fb39daf 0x56366fbbcc66 0x56366fb39daf 0x56366facc039 0x56366fb0f409 0x56366facac52 0x56366fb3dc25 0x56366fb389ee 0x56366facbbda 0x56366fb3a737 0x56366fb389ee 0x56366facbbda 0x56366fb39915 0x56366facbafa 0x56366fb39c0d 0x56366fb389ee\n",
            "\u001b[K     |███████████████████████████▎    | 1691.1 MB 1.2 MB/s eta 0:04:00tcmalloc: large alloc 2241208320 bytes == 0x5636715da000 @  0x7fdbc2609615 0x56366fac74cc 0x56366fba747a 0x56366faca2ed 0x56366fbbbe1d 0x56366fb3de99 0x56366fb389ee 0x56366facbbda 0x56366fb3dd00 0x56366fb389ee 0x56366facbbda 0x56366fb3a737 0x56366fbbcc66 0x56366fb39daf 0x56366fbbcc66 0x56366fb39daf 0x56366fbbcc66 0x56366fb39daf 0x56366facc039 0x56366fb0f409 0x56366facac52 0x56366fb3dc25 0x56366fb389ee 0x56366facbbda 0x56366fb3a737 0x56366fb389ee 0x56366facbbda 0x56366fb39915 0x56366facbafa 0x56366fb39c0d 0x56366fb389ee\n",
            "\u001b[K     |████████████████████████████████| 1982.2 MB 1.1 MB/s eta 0:00:01tcmalloc: large alloc 1982251008 bytes == 0x5636f6f3c000 @  0x7fdbc26081e7 0x56366fafd067 0x56366fac74cc 0x56366fba747a 0x56366faca2ed 0x56366fbbbe1d 0x56366fb3de99 0x56366fb389ee 0x56366facbbda 0x56366fb39c0d 0x56366fb389ee 0x56366facbbda 0x56366fb39c0d 0x56366fb389ee 0x56366facbbda 0x56366fb39c0d 0x56366fb389ee 0x56366facbbda 0x56366fb39c0d 0x56366fb389ee 0x56366facbbda 0x56366fb39c0d 0x56366facbafa 0x56366fb39c0d 0x56366fb389ee 0x56366facbbda 0x56366fb3a737 0x56366fb389ee 0x56366facbbda 0x56366fb3a737 0x56366fb389ee\n",
            "tcmalloc: large alloc 2477817856 bytes == 0x56376d1a8000 @  0x7fdbc2609615 0x56366fac74cc 0x56366fba747a 0x56366faca2ed 0x56366fbbbe1d 0x56366fb3de99 0x56366fb389ee 0x56366facbbda 0x56366fb39c0d 0x56366fb389ee 0x56366facbbda 0x56366fb39c0d 0x56366fb389ee 0x56366facbbda 0x56366fb39c0d 0x56366fb389ee 0x56366facbbda 0x56366fb39c0d 0x56366fb389ee 0x56366facbbda 0x56366fb39c0d 0x56366facbafa 0x56366fb39c0d 0x56366fb389ee 0x56366facbbda 0x56366fb3a737 0x56366fb389ee 0x56366facbbda 0x56366fb3a737 0x56366fb389ee 0x56366facc271\n",
            "\u001b[K     |████████████████████████████████| 1982.2 MB 4.3 kB/s \n",
            "\u001b[?25hCollecting torchvision==0.9.0+cu111\n",
            "  Downloading https://download.pytorch.org/whl/cu111/torchvision-0.9.0%2Bcu111-cp37-cp37m-linux_x86_64.whl (17.6 MB)\n",
            "\u001b[K     |████████████████████████████████| 17.6 MB 1.1 MB/s \n",
            "\u001b[?25hCollecting torchaudio===0.8.0\n",
            "  Downloading torchaudio-0.8.0-cp37-cp37m-manylinux1_x86_64.whl (1.9 MB)\n",
            "\u001b[K     |████████████████████████████████| 1.9 MB 2.8 MB/s \n",
            "\u001b[?25hCollecting pytorch_lightning==1.2.3\n",
            "  Downloading pytorch_lightning-1.2.3-py3-none-any.whl (821 kB)\n",
            "\u001b[K     |████████████████████████████████| 821 kB 31.0 MB/s \n",
            "\u001b[?25hRequirement already satisfied: numpy in /usr/local/lib/python3.7/dist-packages (from torch==1.8.0+cu111) (1.19.5)\n",
            "Requirement already satisfied: typing-extensions in /usr/local/lib/python3.7/dist-packages (from torch==1.8.0+cu111) (3.7.4.3)\n",
            "Requirement already satisfied: pillow>=4.1.1 in /usr/local/lib/python3.7/dist-packages (from torchvision==0.9.0+cu111) (7.1.2)\n",
            "Requirement already satisfied: tqdm>=4.41.0 in /usr/local/lib/python3.7/dist-packages (from pytorch_lightning==1.2.3) (4.62.3)\n",
            "Collecting fsspec[http]>=0.8.1\n",
            "  Downloading fsspec-2021.10.0-py3-none-any.whl (125 kB)\n",
            "\u001b[K     |████████████████████████████████| 125 kB 60.9 MB/s \n",
            "\u001b[?25hCollecting future>=0.17.1\n",
            "  Downloading future-0.18.2.tar.gz (829 kB)\n",
            "\u001b[K     |████████████████████████████████| 829 kB 51.6 MB/s \n",
            "\u001b[?25hCollecting PyYAML!=5.4.*,>=5.1\n",
            "  Downloading PyYAML-5.3.1.tar.gz (269 kB)\n",
            "\u001b[K     |████████████████████████████████| 269 kB 75.3 MB/s \n",
            "\u001b[?25hRequirement already satisfied: tensorboard>=2.2.0 in /usr/local/lib/python3.7/dist-packages (from pytorch_lightning==1.2.3) (2.6.0)\n",
            "Requirement already satisfied: requests in /usr/local/lib/python3.7/dist-packages (from fsspec[http]>=0.8.1->pytorch_lightning==1.2.3) (2.23.0)\n",
            "Collecting aiohttp\n",
            "  Downloading aiohttp-3.7.4.post0-cp37-cp37m-manylinux2014_x86_64.whl (1.3 MB)\n",
            "\u001b[K     |████████████████████████████████| 1.3 MB 38.5 MB/s \n",
            "\u001b[?25hRequirement already satisfied: protobuf>=3.6.0 in /usr/local/lib/python3.7/dist-packages (from tensorboard>=2.2.0->pytorch_lightning==1.2.3) (3.17.3)\n",
            "Requirement already satisfied: werkzeug>=0.11.15 in /usr/local/lib/python3.7/dist-packages (from tensorboard>=2.2.0->pytorch_lightning==1.2.3) (1.0.1)\n",
            "Requirement already satisfied: setuptools>=41.0.0 in /usr/local/lib/python3.7/dist-packages (from tensorboard>=2.2.0->pytorch_lightning==1.2.3) (57.4.0)\n",
            "Requirement already satisfied: absl-py>=0.4 in /usr/local/lib/python3.7/dist-packages (from tensorboard>=2.2.0->pytorch_lightning==1.2.3) (0.12.0)\n",
            "Requirement already satisfied: tensorboard-plugin-wit>=1.6.0 in /usr/local/lib/python3.7/dist-packages (from tensorboard>=2.2.0->pytorch_lightning==1.2.3) (1.8.0)\n",
            "Requirement already satisfied: wheel>=0.26 in /usr/local/lib/python3.7/dist-packages (from tensorboard>=2.2.0->pytorch_lightning==1.2.3) (0.37.0)\n",
            "Requirement already satisfied: google-auth<2,>=1.6.3 in /usr/local/lib/python3.7/dist-packages (from tensorboard>=2.2.0->pytorch_lightning==1.2.3) (1.35.0)\n",
            "Requirement already satisfied: markdown>=2.6.8 in /usr/local/lib/python3.7/dist-packages (from tensorboard>=2.2.0->pytorch_lightning==1.2.3) (3.3.4)\n",
            "Requirement already satisfied: tensorboard-data-server<0.7.0,>=0.6.0 in /usr/local/lib/python3.7/dist-packages (from tensorboard>=2.2.0->pytorch_lightning==1.2.3) (0.6.1)\n",
            "Requirement already satisfied: grpcio>=1.24.3 in /usr/local/lib/python3.7/dist-packages (from tensorboard>=2.2.0->pytorch_lightning==1.2.3) (1.40.0)\n",
            "Requirement already satisfied: google-auth-oauthlib<0.5,>=0.4.1 in /usr/local/lib/python3.7/dist-packages (from tensorboard>=2.2.0->pytorch_lightning==1.2.3) (0.4.6)\n",
            "Requirement already satisfied: six in /usr/local/lib/python3.7/dist-packages (from absl-py>=0.4->tensorboard>=2.2.0->pytorch_lightning==1.2.3) (1.15.0)\n",
            "Requirement already satisfied: cachetools<5.0,>=2.0.0 in /usr/local/lib/python3.7/dist-packages (from google-auth<2,>=1.6.3->tensorboard>=2.2.0->pytorch_lightning==1.2.3) (4.2.2)\n",
            "Requirement already satisfied: pyasn1-modules>=0.2.1 in /usr/local/lib/python3.7/dist-packages (from google-auth<2,>=1.6.3->tensorboard>=2.2.0->pytorch_lightning==1.2.3) (0.2.8)\n",
            "Requirement already satisfied: rsa<5,>=3.1.4 in /usr/local/lib/python3.7/dist-packages (from google-auth<2,>=1.6.3->tensorboard>=2.2.0->pytorch_lightning==1.2.3) (4.7.2)\n",
            "Requirement already satisfied: requests-oauthlib>=0.7.0 in /usr/local/lib/python3.7/dist-packages (from google-auth-oauthlib<0.5,>=0.4.1->tensorboard>=2.2.0->pytorch_lightning==1.2.3) (1.3.0)\n",
            "Requirement already satisfied: importlib-metadata in /usr/local/lib/python3.7/dist-packages (from markdown>=2.6.8->tensorboard>=2.2.0->pytorch_lightning==1.2.3) (4.8.1)\n",
            "Requirement already satisfied: pyasn1<0.5.0,>=0.4.6 in /usr/local/lib/python3.7/dist-packages (from pyasn1-modules>=0.2.1->google-auth<2,>=1.6.3->tensorboard>=2.2.0->pytorch_lightning==1.2.3) (0.4.8)\n",
            "Requirement already satisfied: idna<3,>=2.5 in /usr/local/lib/python3.7/dist-packages (from requests->fsspec[http]>=0.8.1->pytorch_lightning==1.2.3) (2.10)\n",
            "Requirement already satisfied: urllib3!=1.25.0,!=1.25.1,<1.26,>=1.21.1 in /usr/local/lib/python3.7/dist-packages (from requests->fsspec[http]>=0.8.1->pytorch_lightning==1.2.3) (1.24.3)\n",
            "Requirement already satisfied: chardet<4,>=3.0.2 in /usr/local/lib/python3.7/dist-packages (from requests->fsspec[http]>=0.8.1->pytorch_lightning==1.2.3) (3.0.4)\n",
            "Requirement already satisfied: certifi>=2017.4.17 in /usr/local/lib/python3.7/dist-packages (from requests->fsspec[http]>=0.8.1->pytorch_lightning==1.2.3) (2021.5.30)\n",
            "Requirement already satisfied: oauthlib>=3.0.0 in /usr/local/lib/python3.7/dist-packages (from requests-oauthlib>=0.7.0->google-auth-oauthlib<0.5,>=0.4.1->tensorboard>=2.2.0->pytorch_lightning==1.2.3) (3.1.1)\n",
            "Requirement already satisfied: attrs>=17.3.0 in /usr/local/lib/python3.7/dist-packages (from aiohttp->fsspec[http]>=0.8.1->pytorch_lightning==1.2.3) (21.2.0)\n",
            "Collecting multidict<7.0,>=4.5\n",
            "  Downloading multidict-5.1.0-cp37-cp37m-manylinux2014_x86_64.whl (142 kB)\n",
            "\u001b[K     |████████████████████████████████| 142 kB 64.3 MB/s \n",
            "\u001b[?25hCollecting yarl<2.0,>=1.0\n",
            "  Downloading yarl-1.6.3-cp37-cp37m-manylinux2014_x86_64.whl (294 kB)\n",
            "\u001b[K     |████████████████████████████████| 294 kB 71.3 MB/s \n",
            "\u001b[?25hCollecting async-timeout<4.0,>=3.0\n",
            "  Downloading async_timeout-3.0.1-py3-none-any.whl (8.2 kB)\n",
            "Requirement already satisfied: zipp>=0.5 in /usr/local/lib/python3.7/dist-packages (from importlib-metadata->markdown>=2.6.8->tensorboard>=2.2.0->pytorch_lightning==1.2.3) (3.5.0)\n",
            "Building wheels for collected packages: future, PyYAML\n",
            "  Building wheel for future (setup.py) ... \u001b[?25l\u001b[?25hdone\n",
            "  Created wheel for future: filename=future-0.18.2-py3-none-any.whl size=491070 sha256=9b1b4a60126fa07fb6f246b0bfcd26ab7b338e55905e9fc5395a02f61ce4efbb\n",
            "  Stored in directory: /root/.cache/pip/wheels/56/b0/fe/4410d17b32f1f0c3cf54cdfb2bc04d7b4b8f4ae377e2229ba0\n",
            "  Building wheel for PyYAML (setup.py) ... \u001b[?25l\u001b[?25hdone\n",
            "  Created wheel for PyYAML: filename=PyYAML-5.3.1-cp37-cp37m-linux_x86_64.whl size=44635 sha256=183f7d0114c01a74e464c6c597f1e699cdce612c85164de7ad9942022c17bb0d\n",
            "  Stored in directory: /root/.cache/pip/wheels/5e/03/1e/e1e954795d6f35dfc7b637fe2277bff021303bd9570ecea653\n",
            "Successfully built future PyYAML\n",
            "Installing collected packages: multidict, yarl, async-timeout, fsspec, aiohttp, torch, PyYAML, future, torchvision, torchaudio, pytorch-lightning\n",
            "  Attempting uninstall: torch\n",
            "    Found existing installation: torch 1.9.0+cu102\n",
            "    Uninstalling torch-1.9.0+cu102:\n",
            "      Successfully uninstalled torch-1.9.0+cu102\n",
            "  Attempting uninstall: PyYAML\n",
            "    Found existing installation: PyYAML 3.13\n",
            "    Uninstalling PyYAML-3.13:\n",
            "      Successfully uninstalled PyYAML-3.13\n",
            "  Attempting uninstall: future\n",
            "    Found existing installation: future 0.16.0\n",
            "    Uninstalling future-0.16.0:\n",
            "      Successfully uninstalled future-0.16.0\n",
            "  Attempting uninstall: torchvision\n",
            "    Found existing installation: torchvision 0.10.0+cu102\n",
            "    Uninstalling torchvision-0.10.0+cu102:\n",
            "      Successfully uninstalled torchvision-0.10.0+cu102\n",
            "\u001b[31mERROR: pip's dependency resolver does not currently take into account all the packages that are installed. This behaviour is the source of the following dependency conflicts.\n",
            "torchtext 0.10.0 requires torch==1.9.0, but you have torch 1.8.0+cu111 which is incompatible.\u001b[0m\n",
            "Successfully installed PyYAML-5.3.1 aiohttp-3.7.4.post0 async-timeout-3.0.1 fsspec-2021.10.0 future-0.18.2 multidict-5.1.0 pytorch-lightning-1.2.3 torch-1.8.0+cu111 torchaudio-0.8.0 torchvision-0.9.0+cu111 yarl-1.6.3\n"
          ]
        }
      ]
    },
    {
      "cell_type": "code",
      "metadata": {
        "id": "gwv3kJTedw1E",
        "colab": {
          "base_uri": "https://localhost:8080/"
        },
        "outputId": "e15cce73-85c7-49ea-9356-fce224613e9a"
      },
      "source": [
        "!pip install git+https://github.com/SKT-AI/KoBART#egg=kobart"
      ],
      "execution_count": null,
      "outputs": [
        {
          "output_type": "stream",
          "name": "stdout",
          "text": [
            "Collecting kobart\n",
            "  Cloning https://github.com/SKT-AI/KoBART to /tmp/pip-install-uk0xhmow/kobart_b4dd202401654cf9acd77eaf86e786ac\n",
            "  Running command git clone -q https://github.com/SKT-AI/KoBART /tmp/pip-install-uk0xhmow/kobart_b4dd202401654cf9acd77eaf86e786ac\n",
            "Collecting transformers==4.3.3\n",
            "  Downloading transformers-4.3.3-py3-none-any.whl (1.9 MB)\n",
            "\u001b[K     |████████████████████████████████| 1.9 MB 4.2 MB/s \n",
            "\u001b[?25hCollecting torch==1.7.1\n",
            "  Downloading torch-1.7.1-cp37-cp37m-manylinux1_x86_64.whl (776.8 MB)\n",
            "\u001b[K     |████████████████████████████████| 776.8 MB 16 kB/s \n",
            "\u001b[?25hRequirement already satisfied: typing-extensions in /usr/local/lib/python3.7/dist-packages (from torch==1.7.1->kobart) (3.7.4.3)\n",
            "Requirement already satisfied: numpy in /usr/local/lib/python3.7/dist-packages (from torch==1.7.1->kobart) (1.19.5)\n",
            "Requirement already satisfied: filelock in /usr/local/lib/python3.7/dist-packages (from transformers==4.3.3->kobart) (3.0.12)\n",
            "Requirement already satisfied: requests in /usr/local/lib/python3.7/dist-packages (from transformers==4.3.3->kobart) (2.23.0)\n",
            "Requirement already satisfied: tqdm>=4.27 in /usr/local/lib/python3.7/dist-packages (from transformers==4.3.3->kobart) (4.62.3)\n",
            "Collecting sacremoses\n",
            "  Downloading sacremoses-0.0.46-py3-none-any.whl (895 kB)\n",
            "\u001b[K     |████████████████████████████████| 895 kB 30.1 MB/s \n",
            "\u001b[?25hRequirement already satisfied: importlib-metadata in /usr/local/lib/python3.7/dist-packages (from transformers==4.3.3->kobart) (4.8.1)\n",
            "Requirement already satisfied: regex!=2019.12.17 in /usr/local/lib/python3.7/dist-packages (from transformers==4.3.3->kobart) (2019.12.20)\n",
            "Collecting tokenizers<0.11,>=0.10.1\n",
            "  Downloading tokenizers-0.10.3-cp37-cp37m-manylinux_2_5_x86_64.manylinux1_x86_64.manylinux_2_12_x86_64.manylinux2010_x86_64.whl (3.3 MB)\n",
            "\u001b[K     |████████████████████████████████| 3.3 MB 38.5 MB/s \n",
            "\u001b[?25hRequirement already satisfied: packaging in /usr/local/lib/python3.7/dist-packages (from transformers==4.3.3->kobart) (21.0)\n",
            "Requirement already satisfied: zipp>=0.5 in /usr/local/lib/python3.7/dist-packages (from importlib-metadata->transformers==4.3.3->kobart) (3.5.0)\n",
            "Requirement already satisfied: pyparsing>=2.0.2 in /usr/local/lib/python3.7/dist-packages (from packaging->transformers==4.3.3->kobart) (2.4.7)\n",
            "Requirement already satisfied: certifi>=2017.4.17 in /usr/local/lib/python3.7/dist-packages (from requests->transformers==4.3.3->kobart) (2021.5.30)\n",
            "Requirement already satisfied: urllib3!=1.25.0,!=1.25.1,<1.26,>=1.21.1 in /usr/local/lib/python3.7/dist-packages (from requests->transformers==4.3.3->kobart) (1.24.3)\n",
            "Requirement already satisfied: idna<3,>=2.5 in /usr/local/lib/python3.7/dist-packages (from requests->transformers==4.3.3->kobart) (2.10)\n",
            "Requirement already satisfied: chardet<4,>=3.0.2 in /usr/local/lib/python3.7/dist-packages (from requests->transformers==4.3.3->kobart) (3.0.4)\n",
            "Requirement already satisfied: six in /usr/local/lib/python3.7/dist-packages (from sacremoses->transformers==4.3.3->kobart) (1.15.0)\n",
            "Requirement already satisfied: joblib in /usr/local/lib/python3.7/dist-packages (from sacremoses->transformers==4.3.3->kobart) (1.0.1)\n",
            "Requirement already satisfied: click in /usr/local/lib/python3.7/dist-packages (from sacremoses->transformers==4.3.3->kobart) (7.1.2)\n",
            "Building wheels for collected packages: kobart\n",
            "  Building wheel for kobart (setup.py) ... \u001b[?25l\u001b[?25hdone\n",
            "  Created wheel for kobart: filename=kobart-0.4-py3-none-any.whl size=8538 sha256=a35efbe8a0a38fd9eb2d4acc1447e65c89d84dce8988765ad53b5cf7f45cb2ab\n",
            "  Stored in directory: /tmp/pip-ephem-wheel-cache-rm5ej31k/wheels/6e/55/c4/bd4fede223bc304089ac8da2a2099a69db3fcd4b0e853383f5\n",
            "Successfully built kobart\n",
            "Installing collected packages: tokenizers, sacremoses, transformers, torch, kobart\n",
            "  Attempting uninstall: torch\n",
            "    Found existing installation: torch 1.8.0+cu111\n",
            "    Uninstalling torch-1.8.0+cu111:\n",
            "      Successfully uninstalled torch-1.8.0+cu111\n",
            "\u001b[31mERROR: pip's dependency resolver does not currently take into account all the packages that are installed. This behaviour is the source of the following dependency conflicts.\n",
            "torchvision 0.9.0+cu111 requires torch==1.8.0, but you have torch 1.7.1 which is incompatible.\n",
            "torchtext 0.10.0 requires torch==1.9.0, but you have torch 1.7.1 which is incompatible.\n",
            "torchaudio 0.8.0 requires torch==1.8.0, but you have torch 1.7.1 which is incompatible.\u001b[0m\n",
            "Successfully installed kobart-0.4 sacremoses-0.0.46 tokenizers-0.10.3 torch-1.7.1 transformers-4.3.3\n"
          ]
        }
      ]
    },
    {
      "cell_type": "code",
      "metadata": {
        "id": "CG68aqVzgsjR",
        "colab": {
          "base_uri": "https://localhost:8080/"
        },
        "outputId": "e921daae-846a-4704-c5df-2ef56b0f2de0"
      },
      "source": [
        "!git clone --recurse-submodules https://github.com/haven-jeon/KoBART-chatbot.git"
      ],
      "execution_count": null,
      "outputs": [
        {
          "output_type": "stream",
          "name": "stdout",
          "text": [
            "Cloning into 'KoBART-chatbot'...\n",
            "remote: Enumerating objects: 37, done.\u001b[K\n",
            "remote: Counting objects: 100% (37/37), done.\u001b[K\n",
            "remote: Compressing objects: 100% (26/26), done.\u001b[K\n",
            "remote: Total 37 (delta 16), reused 22 (delta 8), pack-reused 0\u001b[K\n",
            "Unpacking objects: 100% (37/37), done.\n",
            "Submodule 'Chatbot_data' (https://github.com/haven-jeon/Chatbot_data.git) registered for path 'Chatbot_data'\n",
            "Cloning into '/content/KoBART-chatbot/Chatbot_data'...\n",
            "remote: Enumerating objects: 24, done.        \n",
            "remote: Counting objects: 100% (4/4), done.        \n",
            "remote: Compressing objects: 100% (4/4), done.        \n",
            "remote: Total 24 (delta 0), reused 3 (delta 0), pack-reused 20        \n",
            "Submodule path 'Chatbot_data': checked out '05e9a64f49a1d0f040ffc63d74b132e8b1795a23'\n"
          ]
        }
      ]
    },
    {
      "cell_type": "code",
      "metadata": {
        "id": "coqJMwfSgvMn",
        "colab": {
          "base_uri": "https://localhost:8080/"
        },
        "outputId": "c15569f6-b847-441c-e039-cfabbd82ac7a"
      },
      "source": [
        "%cd KoBART-chatbot"
      ],
      "execution_count": null,
      "outputs": [
        {
          "output_type": "stream",
          "name": "stdout",
          "text": [
            "/content/KoBART-chatbot\n"
          ]
        }
      ]
    },
    {
      "cell_type": "code",
      "metadata": {
        "id": "iNBhBrMzg_r7",
        "colab": {
          "base_uri": "https://localhost:8080/",
          "height": 504
        },
        "outputId": "48f7b0ad-25af-4a4f-9ae7-6f447d28ba3c"
      },
      "source": [
        "from kobart import get_pytorch_kobart_model, get_kobart_tokenizer\n",
        "get_kobart_tokenizer(\".\")\n",
        "get_pytorch_kobart_model(cachedir=\".\")"
      ],
      "execution_count": null,
      "outputs": [
        {
          "output_type": "stream",
          "name": "stdout",
          "text": [
            "[██████████████████████████████████████████████████]\n",
            "[██████████████████████████████████████████████████]\n"
          ]
        },
        {
          "output_type": "execute_result",
          "data": {
            "application/vnd.google.colaboratory.intrinsic+json": {
              "type": "string"
            },
            "text/plain": [
              "'./kobart_from_pretrained'"
            ]
          },
          "metadata": {},
          "execution_count": 6
        }
      ]
    },
    {
      "cell_type": "code",
      "metadata": {
        "id": "XBsNZ6IAg3hI",
        "colab": {
          "base_uri": "https://localhost:8080/"
        },
        "outputId": "cf2a2f7d-b097-48b9-e562-a983d81502b9"
      },
      "source": [
        "!python kobart_chit_chat.py  --gradient_clip_val 1.0 --max_epochs 3 --default_root_dir logs --model_path kobart_from_pretrained  --tokenizer_path emji_tokenizer --chat --gpus 1"
      ],
      "execution_count": null,
      "outputs": [
        {
          "output_type": "stream",
          "name": "stdout",
          "text": [
            "Traceback (most recent call last):\n",
            "  File \"kobart_chit_chat.py\", line 7, in <module>\n",
            "    import pytorch_lightning as pl\n",
            "  File \"/usr/local/lib/python3.7/dist-packages/pytorch_lightning/__init__.py\", line 62, in <module>\n",
            "    from pytorch_lightning import metrics\n",
            "  File \"/usr/local/lib/python3.7/dist-packages/pytorch_lightning/metrics/__init__.py\", line 14, in <module>\n",
            "    from pytorch_lightning.metrics.classification import (  # noqa: F401\n",
            "  File \"/usr/local/lib/python3.7/dist-packages/pytorch_lightning/metrics/classification/__init__.py\", line 14, in <module>\n",
            "    from pytorch_lightning.metrics.classification.accuracy import Accuracy  # noqa: F401\n",
            "  File \"/usr/local/lib/python3.7/dist-packages/pytorch_lightning/metrics/classification/accuracy.py\", line 18, in <module>\n",
            "    from pytorch_lightning.metrics.functional.accuracy import _accuracy_compute, _accuracy_update\n",
            "  File \"/usr/local/lib/python3.7/dist-packages/pytorch_lightning/metrics/functional/__init__.py\", line 14, in <module>\n",
            "    from pytorch_lightning.metrics.functional.accuracy import accuracy  # noqa: F401\n",
            "  File \"/usr/local/lib/python3.7/dist-packages/pytorch_lightning/metrics/functional/accuracy.py\", line 18, in <module>\n",
            "    from pytorch_lightning.metrics.classification.helpers import _input_format_classification, DataType\n",
            "  File \"/usr/local/lib/python3.7/dist-packages/pytorch_lightning/metrics/classification/helpers.py\", line 19, in <module>\n",
            "    from pytorch_lightning.metrics.utils import select_topk, to_onehot\n",
            "  File \"/usr/local/lib/python3.7/dist-packages/pytorch_lightning/metrics/utils.py\", line 18, in <module>\n",
            "    from pytorch_lightning.utilities import rank_zero_warn\n",
            "  File \"/usr/local/lib/python3.7/dist-packages/pytorch_lightning/utilities/__init__.py\", line 18, in <module>\n",
            "    from pytorch_lightning.utilities.apply_func import move_data_to_device  # noqa: F401\n",
            "  File \"/usr/local/lib/python3.7/dist-packages/pytorch_lightning/utilities/apply_func.py\", line 29, in <module>\n",
            "    from torchtext.legacy.data import Batch\n",
            "  File \"/usr/local/lib/python3.7/dist-packages/torchtext/__init__.py\", line 5, in <module>\n",
            "    from . import vocab\n",
            "  File \"/usr/local/lib/python3.7/dist-packages/torchtext/vocab.py\", line 13, in <module>\n",
            "    from torchtext._torchtext import (\n",
            "ImportError: /usr/local/lib/python3.7/dist-packages/torchtext/_torchtext.so: undefined symbol: _ZNK3c104Type14isSubtypeOfExtERKSt10shared_ptrIS0_EPSo\n"
          ]
        }
      ]
    }
  ]
}